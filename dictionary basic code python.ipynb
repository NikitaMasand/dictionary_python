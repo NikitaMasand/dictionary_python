{
 "cells": [
  {
   "cell_type": "raw",
   "metadata": {},
   "source": [
    "In English dictionaries for every word we have a definition i.e we have some value(definition) for key(word). Dictionaries work in similar way. They have a key value pair. One more example of a key value pair can be your key is your id num and the corresponding value is a list consisting of your name, branch and year\n",
    "The \"empty dict\" is just an empty pair of curly braces {}"
   ]
  },
  {
   "cell_type": "raw",
   "metadata": {},
   "source": [
    "A dict is unordered, which means that if you iterate through the elements of a dict, you are not guaranteed to get the elements in a particular order. So never rely on the order of a dict.\n",
    "\n",
    "A dict is mutable. A mutable object can be changed after it is created\n",
    "Indexing a dict works differently from a list and slicing is not supported\n",
    "It allows to use an arbitrary type of index instead of numerical"
   ]
  },
  {
   "cell_type": "code",
   "execution_count": 40,
   "metadata": {},
   "outputs": [
    {
     "name": "stdout",
     "output_type": "stream",
     "text": [
      "['Nikita', 'S.Y', 'DS']\n",
      "['Nikita', 'S.Y', 'DS']\n"
     ]
    }
   ],
   "source": [
    "student_info = {\n",
    "    #key is id num and value is list[name,year,fav subject]\n",
    "    1 : [\"Nikita\",\"S.Y\",\"DS\"],\n",
    "    2 : [\"Dhwani\", \"S.Y\",\"DLD\"],\n",
    "    3 : [\"Kritika\", \"F.Y\", \"E.G\"]\n",
    "    }\n",
    "#way to get values of a key\n",
    "print(student_info[1])\n",
    "print(student_info.get(1)) "
   ]
  },
  {
   "cell_type": "raw",
   "metadata": {},
   "source": [
    "Keys are usually strings or integer or tuple or can be any immutable data type\n"
   ]
  },
  {
   "cell_type": "code",
   "execution_count": 41,
   "metadata": {},
   "outputs": [
    {
     "ename": "KeyError",
     "evalue": "'171081000'",
     "output_type": "error",
     "traceback": [
      "\u001b[1;31m---------------------------------------------------------------------------\u001b[0m",
      "\u001b[1;31mKeyError\u001b[0m                                  Traceback (most recent call last)",
      "\u001b[1;32m<ipython-input-41-185260b0b76f>\u001b[0m in \u001b[0;36m<module>\u001b[1;34m\u001b[0m\n\u001b[1;32m----> 1\u001b[1;33m \u001b[0mprint\u001b[0m\u001b[1;33m(\u001b[0m\u001b[0mstudent_info\u001b[0m\u001b[1;33m[\u001b[0m\u001b[1;34m'171081000'\u001b[0m\u001b[1;33m]\u001b[0m\u001b[1;33m)\u001b[0m \u001b[1;31m#for those keys that do not exist we will always raise keyerror\u001b[0m\u001b[1;33m\u001b[0m\u001b[1;33m\u001b[0m\u001b[0m\n\u001b[0m",
      "\u001b[1;31mKeyError\u001b[0m: '171081000'"
     ]
    }
   ],
   "source": [
    "print(student_info['171081000']) #for those keys that do not exist we will always raise keyerror"
   ]
  },
  {
   "cell_type": "code",
   "execution_count": 42,
   "metadata": {},
   "outputs": [
    {
     "name": "stdout",
     "output_type": "stream",
     "text": [
      "None\n",
      "['dummy data']\n"
     ]
    }
   ],
   "source": [
    "print(student_info.get('171081000')) #this will return None if the default value is not specified \n",
    "#otherwise this will print the default value as shown\n",
    "print(student_info.get('171081000',[\"dummy data\"]))"
   ]
  },
  {
   "cell_type": "code",
   "execution_count": 43,
   "metadata": {},
   "outputs": [],
   "source": [
    "#To add a new entry\n",
    "#not necessary that all the values or keys need to be of same type\n",
    "student_info[\"COC\"] = \"Community Of Coders\"\n"
   ]
  },
  {
   "cell_type": "code",
   "execution_count": 47,
   "metadata": {},
   "outputs": [],
   "source": [
    "#To update\n",
    "#can be also used to update multiple values or add new values\n",
    "#If a key occurs more than once, the last value \n",
    "#for that key becomes the corresponding value in the new dictionary.\n",
    "student_info.update(\n",
    "{\n",
    "    3 : [\"Kritika\", \"S.Y\", \"python\"],\n",
    "    4 : \"I am a dictionary\"\n",
    "}\n",
    ")"
   ]
  },
  {
   "cell_type": "code",
   "execution_count": 48,
   "metadata": {},
   "outputs": [
    {
     "name": "stdout",
     "output_type": "stream",
     "text": [
      "{1: ['Nikita', 'S.Y', 'DS'], 2: ['Dhwani', 'S.Y', 'DLD'], 3: ['Kritika', 'S.Y', 'python'], 'COC': 'Community Of Coders', 4: 'I am a dictionary'}\n"
     ]
    }
   ],
   "source": [
    "print(student_info)"
   ]
  },
  {
   "cell_type": "code",
   "execution_count": 49,
   "metadata": {},
   "outputs": [],
   "source": [
    "#To delete a specific key value use del keyword\n",
    "#del student_info[4]\n",
    "# Or the pop method\n",
    "d = student_info.pop(4)"
   ]
  },
  {
   "cell_type": "code",
   "execution_count": 50,
   "metadata": {},
   "outputs": [
    {
     "name": "stdout",
     "output_type": "stream",
     "text": [
      "I am a dictionary\n"
     ]
    }
   ],
   "source": [
    "print(d)"
   ]
  },
  {
   "cell_type": "code",
   "execution_count": 51,
   "metadata": {},
   "outputs": [
    {
     "data": {
      "text/plain": [
       "4"
      ]
     },
     "execution_count": 51,
     "metadata": {},
     "output_type": "execute_result"
    }
   ],
   "source": [
    "#for the no. of keys\n",
    "len(student_info)"
   ]
  },
  {
   "cell_type": "code",
   "execution_count": 61,
   "metadata": {},
   "outputs": [
    {
     "name": "stdout",
     "output_type": "stream",
     "text": [
      "dict_keys([1, 2, 3, 'COC']) \n",
      "\n",
      "dict_values([['Nikita', 'S.Y', 'DS'], ['Dhwani', 'S.Y', 'DLD'], ['Kritika', 'S.Y', 'python'], 'Community Of Coders']) \n",
      "\n",
      "dict_items([(1, ['Nikita', 'S.Y', 'DS']), (2, ['Dhwani', 'S.Y', 'DLD']), (3, ['Kritika', 'S.Y', 'python']), ('COC', 'Community Of Coders')]) \n",
      "\n",
      "{1: ['Nikita', 'S.Y', 'DS'], 2: ['Dhwani', 'S.Y', 'DLD'], 3: ['Kritika', 'S.Y', 'python'], 'COC': 'Community Of Coders'}\n"
     ]
    }
   ],
   "source": [
    "#to print only keys\n",
    "print(student_info.keys(),\"\\n\")\n",
    "# to get the list print student_info.keys()\n",
    "#to print only values\n",
    "print(student_info.values(),\"\\n\")\n",
    "#to print both keys and values\n",
    "print(student_info.items(),\"\\n\")\n",
    "#all of the above have returned a tuple\n",
    "print(student_info)"
   ]
  },
  {
   "cell_type": "code",
   "execution_count": 69,
   "metadata": {},
   "outputs": [
    {
     "name": "stdout",
     "output_type": "stream",
     "text": [
      "Yaya\n",
      "1 ['Nikita', 'S.Y', 'DS']\n",
      "Yaya\n",
      "2 ['Dhwani', 'S.Y', 'DLD']\n",
      "Yaya\n",
      "3 ['Kritika', 'S.Y', 'python']\n",
      "Yaya\n",
      "COC Community Of Coders\n"
     ]
    }
   ],
   "source": [
    "#to loop through\n",
    "for key,value in student_info.items():\n",
    "#     if \"COC\" in student_info:\n",
    "#         print(\"Yaya\")\n",
    "    print(key,value)"
   ]
  },
  {
   "cell_type": "raw",
   "metadata": {},
   "source": [
    "The dictionary takes in scattered data and makes it into something coherent."
   ]
  },
  {
   "cell_type": "code",
   "execution_count": 66,
   "metadata": {},
   "outputs": [
    {
     "name": "stdout",
     "output_type": "stream",
     "text": [
      "a 0\n",
      "b 1\n",
      "c 2\n",
      "d 3\n",
      "e 4\n",
      "f 5\n"
     ]
    }
   ],
   "source": [
    "#zip\n",
    "A = dict(zip('abcdef', list(range(6))))\n",
    "for key, val in A.items():\n",
    "    print(key, val)"
   ]
  }
 ],
 "metadata": {
  "kernelspec": {
   "display_name": "Python 3",
   "language": "python",
   "name": "python3"
  },
  "language_info": {
   "codemirror_mode": {
    "name": "ipython",
    "version": 3
   },
   "file_extension": ".py",
   "mimetype": "text/x-python",
   "name": "python",
   "nbconvert_exporter": "python",
   "pygments_lexer": "ipython3",
   "version": "3.6.7"
  }
 },
 "nbformat": 4,
 "nbformat_minor": 2
}
